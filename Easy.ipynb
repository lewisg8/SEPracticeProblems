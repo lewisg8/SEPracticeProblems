{
 "cells": [
  {
   "cell_type": "markdown",
   "id": "ca08f3b3",
   "metadata": {},
   "source": [
    "## Valid palindrome"
   ]
  },
  {
   "cell_type": "code",
   "execution_count": 1,
   "id": "c5b8006c",
   "metadata": {},
   "outputs": [],
   "source": [
    "def isPalindrome(s: str) -> bool:\n",
    "        \n",
    "        s = s.lower()\n",
    "        s = re.sub('[^a-zA-Z0-9 \\n\\.]', '', s)\n",
    "        s = s.replace(\" \", \"\")\n",
    "        s = s.replace(\".\", \"\")\n",
    "        s_lower = s.lower()\n",
    "        s_lower = re.sub('[^a-zA-Z0-9 \\n\\.]', '', s_lower)\n",
    "        s_lower = s_lower.replace(\" \", \"\")\n",
    "        s_lower = s_lower.replace(\".\", \"\")\n",
    "        reverse_str = s_lower[::-1]\n",
    "        print(reverse_str + \" \" + s)\n",
    "        if s == reverse_str:\n",
    "            return True\n",
    "        else:\n",
    "            return False"
   ]
  },
  {
   "cell_type": "markdown",
   "id": "c3970801",
   "metadata": {},
   "source": [
    "## Anagram"
   ]
  },
  {
   "cell_type": "code",
   "execution_count": 2,
   "id": "d02f35e3",
   "metadata": {},
   "outputs": [],
   "source": [
    "def isAnagram(self, s: str, t: str) -> bool:\n",
    "        \n",
    "        dict_s = {}\n",
    "        dict_t = {}\n",
    "        \n",
    "        for letter in s:\n",
    "            \n",
    "            if letter in dict_s.keys():\n",
    "                dict_s[letter] += 1\n",
    "            else:\n",
    "                dict_s[letter] = 1\n",
    "        \n",
    "        for letter in t:\n",
    "            \n",
    "            if letter in dict_t.keys():\n",
    "                dict_t[letter] += 1\n",
    "            else:\n",
    "                dict_t[letter] = 1\n",
    "        \n",
    "        if dict_s == dict_t:\n",
    "            return True\n",
    "        else:\n",
    "            return False"
   ]
  },
  {
   "cell_type": "markdown",
   "id": "1a3763f7",
   "metadata": {},
   "source": [
    "## Binary search"
   ]
  },
  {
   "cell_type": "code",
   "execution_count": 4,
   "id": "da7f9a1c",
   "metadata": {},
   "outputs": [],
   "source": [
    "def search(nums, target):\n",
    "        \n",
    "        low = 0\n",
    "        high = len(nums) - 1\n",
    "        mid = 0\n",
    "        \n",
    "        while low <= high:\n",
    "            \n",
    "            mid = (low + high) // 2\n",
    "            \n",
    "            if nums[mid] < target:\n",
    "                low = mid + 1\n",
    "            \n",
    "            elif nums[mid] > target:\n",
    "                high = mid - 1\n",
    "                \n",
    "            else:\n",
    "                return mid\n",
    "        \n",
    "        return -1"
   ]
  },
  {
   "cell_type": "markdown",
   "id": "aa9a823e",
   "metadata": {},
   "source": [
    "## Ransom note"
   ]
  },
  {
   "cell_type": "code",
   "execution_count": 5,
   "id": "4006c5d1",
   "metadata": {},
   "outputs": [],
   "source": [
    "def canConstruct(ransomNote, magazine):\n",
    "\n",
    "    hashmap = {}\n",
    "\n",
    "    for letter in magazine:\n",
    "\n",
    "        if letter in hashmap.keys():\n",
    "            hashmap[letter] += 1\n",
    "        else:\n",
    "            hashmap[letter] = 1\n",
    "\n",
    "\n",
    "    for letter in ransomNote:\n",
    "        if letter in hashmap.keys():\n",
    "            if hashmap[letter] > 1:\n",
    "                hashmap[letter] -= 1\n",
    "            else:\n",
    "                del hashmap[letter]\n",
    "        else:\n",
    "            return False\n",
    "    return True\n",
    "\n",
    "    print(hashmap)"
   ]
  },
  {
   "cell_type": "markdown",
   "id": "96f7e38b",
   "metadata": {},
   "source": [
    "## First bad version"
   ]
  },
  {
   "cell_type": "code",
   "execution_count": 6,
   "id": "9d94731c",
   "metadata": {},
   "outputs": [],
   "source": [
    "def firstBadVersion(n):\n",
    "        start = 0\n",
    "        end = n\n",
    "        while start < end:\n",
    "            mid = start + (end - start) // 2\n",
    "            if isBadVersion(mid):\n",
    "                end = mid \n",
    "            else:\n",
    "                start = mid + 1\n",
    "        return start"
   ]
  },
  {
   "cell_type": "markdown",
   "id": "19fedb7e",
   "metadata": {},
   "source": [
    "## Two sum"
   ]
  },
  {
   "cell_type": "code",
   "execution_count": 7,
   "id": "26d6891f",
   "metadata": {},
   "outputs": [],
   "source": [
    "def twoSum(nums, target):\n",
    "        \n",
    "        my_set = {}\n",
    "        \n",
    "        for i in range(len(nums)):\n",
    "            diff = target - nums[i]\n",
    "            if diff in my_set:\n",
    "                return [i, my_set[diff]]\n",
    "            my_set[nums[i]] = i"
   ]
  },
  {
   "cell_type": "markdown",
   "id": "ca4f1e68",
   "metadata": {},
   "source": [
    "## Majority element"
   ]
  },
  {
   "cell_type": "code",
   "execution_count": 8,
   "id": "b82d3b85",
   "metadata": {},
   "outputs": [],
   "source": [
    "def majorityElement(nums):\n",
    "        \n",
    "        hashmap = {}\n",
    "        \n",
    "        for elem in nums:\n",
    "            stringEl = \"% s\" % elem\n",
    "            if stringEl in hashmap.keys():\n",
    "                \n",
    "                hashmap[stringEl] += 1\n",
    "            else:\n",
    "                hashmap[stringEl] = 1\n",
    "                \n",
    "        majority = max(hashmap, key=hashmap.get)\n",
    "        \n",
    "        return majority\n",
    "    \n",
    "    \n",
    "def majorityElement2(nums):    \n",
    "    counts = collections.Counter(nums)\n",
    "    return max(counts.keys(), key=counts.get)"
   ]
  },
  {
   "cell_type": "markdown",
   "id": "d9f63f7a",
   "metadata": {},
   "source": [
    "## Is distinct values"
   ]
  },
  {
   "cell_type": "code",
   "execution_count": 10,
   "id": "e7a471c0",
   "metadata": {},
   "outputs": [],
   "source": [
    "def containsDuplicate(nums):\n",
    "        counts = collections.Counter(nums)\n",
    "        vals = counts.values()\n",
    "        max_val = max(vals)\n",
    "        if max_val > 1:\n",
    "            return True\n",
    "        else:\n",
    "            return False"
   ]
  },
  {
   "cell_type": "code",
   "execution_count": null,
   "id": "b15493d6",
   "metadata": {},
   "outputs": [],
   "source": []
  }
 ],
 "metadata": {
  "kernelspec": {
   "display_name": "Python 3",
   "language": "python",
   "name": "python3"
  },
  "language_info": {
   "codemirror_mode": {
    "name": "ipython",
    "version": 3
   },
   "file_extension": ".py",
   "mimetype": "text/x-python",
   "name": "python",
   "nbconvert_exporter": "python",
   "pygments_lexer": "ipython3",
   "version": "3.8.8"
  }
 },
 "nbformat": 4,
 "nbformat_minor": 5
}
